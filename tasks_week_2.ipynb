{
 "cells": [
  {
   "cell_type": "markdown",
   "metadata": {},
   "source": [
    "Напишите программу, которая считывает со стандартного ввода целые числа, по одному числу в строке, и после первого введенного нуля выводит сумму полученных на вход чисел."
   ]
  },
  {
   "cell_type": "code",
   "execution_count": 21,
   "metadata": {},
   "outputs": [
    {
     "name": "stdout",
     "output_type": "stream",
     "text": [
      "введите целое число: 1\n",
      "введите следующее число: 2\n",
      "введите следующее число: 3\n",
      "введите следующее число: -6\n",
      "введите следующее число: 5\n",
      "введите следующее число: 0\n",
      "5\n"
     ]
    }
   ],
   "source": [
    "sum = 0\n",
    "a = int(input('введите целое число: '))\n",
    "d = a\n",
    "while d != 0:\n",
    "    d = int(input('введите следующее число: '))\n",
    "    sum += d\n",
    "print (sum + a)"
   ]
  },
  {
   "cell_type": "markdown",
   "metadata": {},
   "source": []
  }
 ],
 "metadata": {
  "kernelspec": {
   "display_name": "Python 3",
   "language": "python",
   "name": "python3"
  },
  "language_info": {
   "codemirror_mode": {
    "name": "ipython",
    "version": 3
   },
   "file_extension": ".py",
   "mimetype": "text/x-python",
   "name": "python",
   "nbconvert_exporter": "python",
   "pygments_lexer": "ipython3",
   "version": "3.7.3"
  }
 },
 "nbformat": 4,
 "nbformat_minor": 2
}
